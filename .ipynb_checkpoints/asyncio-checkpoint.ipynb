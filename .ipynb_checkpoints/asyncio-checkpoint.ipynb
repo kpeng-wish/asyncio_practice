{
 "cells": [
  {
   "cell_type": "markdown",
   "id": "9c45c5b5-4dd9-4467-a175-8677c9332d1c",
   "metadata": {
    "tags": []
   },
   "source": [
    "# Python Async Programming Introduction\n",
    "\n",
    "**by Kris Peng (2021.08)**"
   ]
  },
  {
   "cell_type": "markdown",
   "id": "36298f79-d66d-470c-b33f-39cb642f4d26",
   "metadata": {
    "tags": []
   },
   "source": [
    "## Contents\n",
    "\n",
    "### 0. Basic Concepts\n",
    "### 1. Python Language Support\n",
    "### 2. Framework Support\n",
    "### 3. Wishpost Usage"
   ]
  },
  {
   "cell_type": "markdown",
   "id": "b7b3c813-9993-48e5-a2e2-33bed07fbe2c",
   "metadata": {
    "tags": []
   },
   "source": [
    "## 0. Basic Concepts"
   ]
  },
  {
   "cell_type": "markdown",
   "id": "e6e277d8-a7c5-4bcc-bc4e-059809547213",
   "metadata": {
    "tags": []
   },
   "source": [
    "### What is async programming and when to use it?\n",
    "\n",
    "When you \n",
    "\n",
    "https://realpython.com/async-io-python/\n",
    "\n",
    "https://docs.python.org/3/library/asyncio.html\n",
    "\n",
    "https://bbc.github.io/cloudfit-public-docs/asyncio/asyncio-part-1.html\n"
   ]
  },
  {
   "cell_type": "code",
   "execution_count": 20,
   "id": "1c61f2a9-03e8-4dce-9ada-ad1b76244527",
   "metadata": {},
   "outputs": [],
   "source": [
    "import nest_asyncio\n",
    "nest_asyncio.apply()"
   ]
  },
  {
   "cell_type": "code",
   "execution_count": null,
   "id": "541a2def-8681-4576-ab6b-40ee5c35597f",
   "metadata": {},
   "outputs": [],
   "source": []
  },
  {
   "cell_type": "markdown",
   "id": "00d66785-5888-49da-af1f-57b809060c02",
   "metadata": {
    "tags": []
   },
   "source": [
    "## 1. Python Language Support"
   ]
  },
  {
   "cell_type": "markdown",
   "id": "83ce604b-5ab4-4011-b36c-598b7f007593",
   "metadata": {},
   "source": [
    "todo"
   ]
  },
  {
   "cell_type": "code",
   "execution_count": null,
   "id": "5f86ef8e-397f-4b0b-a794-7cdfcf409d83",
   "metadata": {},
   "outputs": [],
   "source": []
  },
  {
   "cell_type": "markdown",
   "id": "18d4f294-3c87-405e-9432-5dececb67a7f",
   "metadata": {
    "tags": []
   },
   "source": [
    "## 2. Framework Support\n",
    "\n",
    "https://github.com/timofurrer/awesome-asyncio"
   ]
  },
  {
   "cell_type": "markdown",
   "id": "1af69757-75f5-4cb1-83da-285918ded81b",
   "metadata": {
    "tags": []
   },
   "source": [
    "### tornado"
   ]
  },
  {
   "cell_type": "code",
   "execution_count": null,
   "id": "6562bc4f-e011-47ac-be7f-260b60ec4a63",
   "metadata": {},
   "outputs": [],
   "source": []
  },
  {
   "cell_type": "markdown",
   "id": "66c822de-1032-4094-b13b-030aad2b0a0f",
   "metadata": {},
   "source": [
    "### aiohttp"
   ]
  },
  {
   "cell_type": "code",
   "execution_count": null,
   "id": "ba300743-f460-4669-a1bd-d69b8d47c0a1",
   "metadata": {},
   "outputs": [],
   "source": []
  },
  {
   "cell_type": "markdown",
   "id": "7d8b307d-e738-4e38-8006-51780f1d701f",
   "metadata": {},
   "source": [
    "## 3. Wishpost Usage"
   ]
  },
  {
   "cell_type": "markdown",
   "id": "d03605ed-f2ee-43f9-abbb-6607dc9ba401",
   "metadata": {},
   "source": [
    "todo"
   ]
  },
  {
   "cell_type": "code",
   "execution_count": null,
   "id": "ff2190e5-b78b-4491-9e2f-229d2eea33aa",
   "metadata": {},
   "outputs": [],
   "source": []
  },
  {
   "cell_type": "code",
   "execution_count": null,
   "id": "e304b03a-b955-426a-b7ce-1c24087b50f2",
   "metadata": {},
   "outputs": [],
   "source": []
  },
  {
   "cell_type": "code",
   "execution_count": null,
   "id": "cdee2444-96ae-4e6d-9c6f-c8e4fffd6590",
   "metadata": {},
   "outputs": [],
   "source": []
  }
 ],
 "metadata": {
  "kernelspec": {
   "display_name": "Python 3 (ipykernel)",
   "language": "python",
   "name": "python3"
  },
  "language_info": {
   "codemirror_mode": {
    "name": "ipython",
    "version": 3
   },
   "file_extension": ".py",
   "mimetype": "text/x-python",
   "name": "python",
   "nbconvert_exporter": "python",
   "pygments_lexer": "ipython3",
   "version": "3.9.6"
  }
 },
 "nbformat": 4,
 "nbformat_minor": 5
}
